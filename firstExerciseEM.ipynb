{
 "cells": [
  {
   "cell_type": "code",
   "execution_count": 5,
   "metadata": {},
   "outputs": [
    {
     "name": "stdout",
     "output_type": "stream",
     "text": [
      "        TimeStamp Application Category               Severity\n",
      "0  20211102T00:00        APP1    ERROR     ERROR1: Non Severe\n",
      "1  20211102T00:01        APP1  SUCCESS             No Problem\n",
      "2  20211102T00:02        APP4     INFO              Some Info\n",
      "3  20211102T00:03        APP6    ERROR  ERROR3: Middle Severe\n",
      "4  20211102T00:04        APP2    ERROR  ERROR3: Middle Severe\n",
      "5  20211102T00:05        APP3  SUCCESS            No pProblem\n",
      "6  20211102T00:06        APP4    ERROR         ERROR5: Severe\n",
      "{'ErrorCount: ': 4, 'SuccessCount: ': 2, 'Total: ': 7}\n"
     ]
    }
   ],
   "source": [
    "import numpy as np\n",
    "import pandas as pd \n",
    "import csv\n",
    "from pandas import Series, DataFrame\n",
    "nameFile=\"C:\\\\Users\\\\jaime\\\\logEntries.csv\"\n",
    "df=pd.read_csv(nameFile)\n",
    "print(df)\n",
    "cate=df.iloc[:,2]\n",
    "def firstexercise(cate,nError,nSuccess,nInfo):\n",
    "    for x in range(len(cate)):\n",
    "        if cate[x]==\"ERROR\":\n",
    "            nError=nError+1\n",
    "        elif cate[x]==\"SUCCESS\":\n",
    "            nSuccess=nSuccess+1\n",
    "    \n",
    "        else:\n",
    "            nInfo=nInfo+1\n",
    "            \n",
    "    nTotal=nError+nSuccess+nInfo\n",
    "    firstExerciseDict={\"ErrorCount: \":nError,\"SuccessCount: \":nSuccess,\"Total: \":nTotal}\n",
    "    print(firstExerciseDict)\n",
    "\n",
    "firstexercise(cate,0,0,0)\n"
   ]
  },
  {
   "cell_type": "code",
   "execution_count": 7,
   "metadata": {},
   "outputs": [
    {
     "name": "stdout",
     "output_type": "stream",
     "text": [
      "TimeStamp          20211102T00:00\n",
      "Application                  APP1\n",
      "Category                    ERROR\n",
      "Severity       ERROR1: Non Severe\n",
      "Name: 0, dtype: object\n",
      "TimeStamp             20211102T00:03\n",
      "Application                     APP6\n",
      "Category                       ERROR\n",
      "Severity       ERROR3: Middle Severe\n",
      "Name: 3, dtype: object\n",
      "TimeStamp             20211102T00:04\n",
      "Application                     APP2\n",
      "Category                       ERROR\n",
      "Severity       ERROR3: Middle Severe\n",
      "Name: 4, dtype: object\n",
      "TimeStamp      20211102T00:06\n",
      "Application              APP4\n",
      "Category                ERROR\n",
      "Severity       ERROR5: Severe\n",
      "Name: 6, dtype: object\n"
     ]
    }
   ],
   "source": [
    "def secondexercise(cate,df):\n",
    "    for x in range(len(cate)):\n",
    "        if cate[x]==\"ERROR\":\n",
    "            print(df.iloc[x,:])       \n",
    "secondexercise(cate,df)"
   ]
  },
  {
   "cell_type": "code",
   "execution_count": null,
   "metadata": {},
   "outputs": [],
   "source": [
    "\n",
    "import pandas as pd\n",
    "import smtplib\n",
    "nameLambda=pd.read_csv(r'C:\\\\User\\\\...everyMundo.txt, delimiter='-')\n",
    "for x in range(len(nameLambda.iloc[:,0])):\n",
    "    .....\n",
    "    def notify(email:str,content:str):\n",
    "        for y in ...:                   \n",
    "        ....\n",
    "        ....\n",
    "        if ...:\n",
    "            .....\n",
    "            if emailn != emaily\n",
    "                           \n",
    "        an=[emailn,[message1,....,messagem] ]\n",
    "        \n",
    "        return an\n",
    "notify(....)\n",
    "......\n",
    "a=[a1,a2,...am]    \n",
    "....\n",
    "....\n",
    "for w in for x in range(len(a)):                        \n",
    "import smtplib\n",
    "//  Code in HTTP                          \n",
    "desdeFrom=\"<name@everymundo.com>\"\n",
    "todestino=\"<aw[0]>\"\n",
    "tema=\"Notification\"\n",
    "messages=\"\"\"...<br/>....a[1]....</b>\"\"\"                                                  \n",
    "email = \"\"\"From: %s \n",
    "To: %s \n",
    "MIME-Version: 1.0 \n",
    "Content-type: text/html \n",
    "Subject: %s \n",
    "\n",
    "%s\n",
    "\"\"\" % (desdeFrom,todestino ,tema, messages) \n",
    "try: \n",
    "    smtp = smtplib.SMTP('host of AWS S3') \n",
    "    smtp.sendmail(desdeFrom, todestino,messages) \n"
   ]
  }
 ],
 "metadata": {
  "kernelspec": {
   "display_name": "Python 3",
   "language": "python",
   "name": "python3"
  },
  "language_info": {
   "codemirror_mode": {
    "name": "ipython",
    "version": 3
   },
   "file_extension": ".py",
   "mimetype": "text/x-python",
   "name": "python",
   "nbconvert_exporter": "python",
   "pygments_lexer": "ipython3",
   "version": "3.7.3"
  }
 },
 "nbformat": 4,
 "nbformat_minor": 2
}
